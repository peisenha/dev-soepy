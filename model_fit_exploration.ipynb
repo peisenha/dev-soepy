{
 "cells": [
  {
   "cell_type": "code",
   "execution_count": 1,
   "metadata": {},
   "outputs": [],
   "source": [
    "import pickle as pkl\n",
    "import pandas as pd\n",
    "import numpy as np\n",
    "import os\n",
    "\n",
    "import soepy as sp"
   ]
  },
  {
   "cell_type": "markdown",
   "metadata": {},
   "source": [
    "# Explorations for model fit\n",
    "\n",
    "**Notes**\n",
    "\n",
    "* I ran a set of one-parmeter estimations with our fitted parameters. That leads to improvements in the expected directions, but not really dramatic.\n",
    "\n",
    "* We need to confirm that the shares plotted are to be trusted. It seems to me that the share of non-employment appears to be quiet large.\n",
    "\n",
    "    * We need those plots by eduction group.\n",
    "\n",
    "* The only reason that individuals choose not to work is because of children given the specification of the utility function. \n",
    "\n",
    "    * That is why I am not surprised given the initial distribution of children in the sample. The number of children is smaller than needed across all education groups. \n",
    "    \n",
    "    * In Blundell's paper they also have presence of partner in there directly (partner income probably differs by education group due to assortative mating)\n",
    "\n",
    "-----\n",
    "\n",
    "* The interpretation for the level of the replacement rate is not clear. Does it relate to the net or gross earnings? We do not have taxes yet.\n",
    "* Maybe this is a good time to focus on the whole tax function."
   ]
  },
  {
   "cell_type": "code",
   "execution_count": 12,
   "metadata": {},
   "outputs": [],
   "source": [
    "os.chdir(\"/home/peisenha/projects/structExpectations/analysis/estimation/basecamp\")\n",
    "model_params = pd.read_pickle(\"resources/model_params.pkl\")\n",
    "model_spec = \"resources/model_spec_init.yml\""
   ]
  },
  {
   "cell_type": "code",
   "execution_count": 15,
   "metadata": {},
   "outputs": [],
   "source": [
    "df = sp.simulate(model_params, model_spec).set_index([\"Identifier\", \"Period\"]).sort_index()"
   ]
  },
  {
   "cell_type": "markdown",
   "metadata": {},
   "source": [
    "This is an example that the share of individuals without any kids is about 60\\%."
   ]
  },
  {
   "cell_type": "code",
   "execution_count": 16,
   "metadata": {},
   "outputs": [
    {
     "data": {
      "text/plain": [
       "-1    0.633777\n",
       " 1    0.114152\n",
       " 0    0.081489\n",
       " 2    0.077346\n",
       " 3    0.067771\n",
       " 4    0.025465\n",
       "Name: Age_Youngest_Child, dtype: float64"
      ]
     },
     "execution_count": 16,
     "metadata": {},
     "output_type": "execute_result"
    }
   ],
   "source": [
    "df_low = df[(df[\"Education_Level\"] == 0)]\n",
    "df_low.loc[(slice(None), 0), \"Age_Youngest_Child\"].value_counts(normalize=True)"
   ]
  }
 ],
 "metadata": {
  "kernelspec": {
   "display_name": "Python 3",
   "language": "python",
   "name": "python3"
  },
  "language_info": {
   "codemirror_mode": {
    "name": "ipython",
    "version": 3
   },
   "file_extension": ".py",
   "mimetype": "text/x-python",
   "name": "python",
   "nbconvert_exporter": "python",
   "pygments_lexer": "ipython3",
   "version": "3.7.3"
  }
 },
 "nbformat": 4,
 "nbformat_minor": 4
}
