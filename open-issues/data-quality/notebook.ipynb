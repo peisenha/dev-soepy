{
 "cells": [
  {
   "cell_type": "code",
   "execution_count": 2,
   "id": "4e7b034c-773c-4b42-9f2e-2d841b4bb7cc",
   "metadata": {},
   "outputs": [],
   "source": [
    "import pandas as pd\n",
    "import os\n",
    "\n",
    "import matplotlib.pyplot as plt\n",
    "\n",
    "from dev_library import df_alignment"
   ]
  },
  {
   "cell_type": "markdown",
   "id": "36ebac57-c5d0-4c56-b554-23a3b6151660",
   "metadata": {},
   "source": [
    "### Observations with children\n",
    "\n",
    "In the later periods, there are no individuals with children. We first read in the original STATA file."
   ]
  },
  {
   "cell_type": "code",
   "execution_count": 25,
   "id": "78d61acc-d10a-4741-8ddd-27b6178a10df",
   "metadata": {},
   "outputs": [
    {
     "data": {
      "text/html": [
       "<div>\n",
       "<style scoped>\n",
       "    .dataframe tbody tr th:only-of-type {\n",
       "        vertical-align: middle;\n",
       "    }\n",
       "\n",
       "    .dataframe tbody tr th {\n",
       "        vertical-align: top;\n",
       "    }\n",
       "\n",
       "    .dataframe thead th {\n",
       "        text-align: right;\n",
       "    }\n",
       "</style>\n",
       "<table border=\"1\" class=\"dataframe\">\n",
       "  <thead>\n",
       "    <tr style=\"text-align: right;\">\n",
       "      <th></th>\n",
       "      <th></th>\n",
       "      <th>Education_Level</th>\n",
       "      <th>Experience_Part_Time</th>\n",
       "      <th>Experience_Full_Time</th>\n",
       "      <th>Age_Youngest_Child</th>\n",
       "      <th>Number_of_Children</th>\n",
       "      <th>Partner_Indicator</th>\n",
       "      <th>Choice</th>\n",
       "      <th>Wage_Observed</th>\n",
       "    </tr>\n",
       "    <tr>\n",
       "      <th>Identifier</th>\n",
       "      <th>Period</th>\n",
       "      <th></th>\n",
       "      <th></th>\n",
       "      <th></th>\n",
       "      <th></th>\n",
       "      <th></th>\n",
       "      <th></th>\n",
       "      <th></th>\n",
       "      <th></th>\n",
       "    </tr>\n",
       "  </thead>\n",
       "  <tbody>\n",
       "    <tr>\n",
       "      <th rowspan=\"5\" valign=\"top\">901</th>\n",
       "      <th>32</th>\n",
       "      <td>Low</td>\n",
       "      <td>2</td>\n",
       "      <td>33</td>\n",
       "      <td>-1</td>\n",
       "      <td>0</td>\n",
       "      <td>0</td>\n",
       "      <td>Full</td>\n",
       "      <td>12.744263</td>\n",
       "    </tr>\n",
       "    <tr>\n",
       "      <th>35</th>\n",
       "      <td>Low</td>\n",
       "      <td>2</td>\n",
       "      <td>36</td>\n",
       "      <td>-1</td>\n",
       "      <td>0</td>\n",
       "      <td>0</td>\n",
       "      <td>Full</td>\n",
       "      <td>12.813683</td>\n",
       "    </tr>\n",
       "    <tr>\n",
       "      <th>36</th>\n",
       "      <td>Low</td>\n",
       "      <td>2</td>\n",
       "      <td>37</td>\n",
       "      <td>-1</td>\n",
       "      <td>0</td>\n",
       "      <td>0</td>\n",
       "      <td>Full</td>\n",
       "      <td>12.590151</td>\n",
       "    </tr>\n",
       "    <tr>\n",
       "      <th>37</th>\n",
       "      <td>Low</td>\n",
       "      <td>2</td>\n",
       "      <td>38</td>\n",
       "      <td>-1</td>\n",
       "      <td>0</td>\n",
       "      <td>0</td>\n",
       "      <td>Full</td>\n",
       "      <td>12.708170</td>\n",
       "    </tr>\n",
       "    <tr>\n",
       "      <th>38</th>\n",
       "      <td>Low</td>\n",
       "      <td>2</td>\n",
       "      <td>39</td>\n",
       "      <td>-1</td>\n",
       "      <td>0</td>\n",
       "      <td>0</td>\n",
       "      <td>Full</td>\n",
       "      <td>10.990616</td>\n",
       "    </tr>\n",
       "  </tbody>\n",
       "</table>\n",
       "</div>"
      ],
      "text/plain": [
       "                  Education_Level  Experience_Part_Time  Experience_Full_Time  \\\n",
       "Identifier Period                                                               \n",
       "901        32                 Low                     2                    33   \n",
       "           35                 Low                     2                    36   \n",
       "           36                 Low                     2                    37   \n",
       "           37                 Low                     2                    38   \n",
       "           38                 Low                     2                    39   \n",
       "\n",
       "                   Age_Youngest_Child  Number_of_Children  Partner_Indicator  \\\n",
       "Identifier Period                                                              \n",
       "901        32                      -1                   0                  0   \n",
       "           35                      -1                   0                  0   \n",
       "           36                      -1                   0                  0   \n",
       "           37                      -1                   0                  0   \n",
       "           38                      -1                   0                  0   \n",
       "\n",
       "                  Choice  Wage_Observed  \n",
       "Identifier Period                        \n",
       "901        32       Full      12.744263  \n",
       "           35       Full      12.813683  \n",
       "           36       Full      12.590151  \n",
       "           37       Full      12.708170  \n",
       "           38       Full      10.990616  "
      ]
     },
     "execution_count": 25,
     "metadata": {},
     "output_type": "execute_result"
    }
   ],
   "source": [
    "fname_data = \"/home/peisenha/structExpectations/data-exchange-sciebo/soepcore_struct_prep.dta\"\n",
    "df_obs = df_alignment(pd.read_stata(fname_data, convert_categoricals=False))\n",
    "df_obs.head()"
   ]
  },
  {
   "cell_type": "markdown",
   "id": "c09ae751-73a9-46cc-9e67-4f57f37837f9",
   "metadata": {},
   "source": [
    "Now I create an indicator variable for observation with children"
   ]
  },
  {
   "cell_type": "code",
   "execution_count": 26,
   "id": "73719479-7b72-4aa7-b1a9-c0ebddaebf1e",
   "metadata": {},
   "outputs": [],
   "source": [
    "df_obs[\"Child_present\"] = (df_obs[\"Number_of_Children\"] > 0)"
   ]
  },
  {
   "cell_type": "markdown",
   "id": "b123f73b-2ad5-404c-9d5f-763f20629fd3",
   "metadata": {},
   "source": [
    "We can then plot the share of individuals with children by period."
   ]
  },
  {
   "cell_type": "code",
   "execution_count": 27,
   "id": "87044f7e-6b3e-4485-8c02-7333da8ef4fa",
   "metadata": {},
   "outputs": [
    {
     "data": {
      "image/png": "[encoded data removed]",
      "text/plain": [
       "<Figure size 432x288 with 1 Axes>"
      ]
     },
     "metadata": {
      "needs_background": "light"
     },
     "output_type": "display_data"
    }
   ],
   "source": [
    "df_obs[\"Child_present\"].groupby(\"Period\").value_counts(normalize=True).loc[slice(None), True].plot(ylabel=\"Share with children\", ylim=[0, 1]);"
   ]
  },
  {
   "cell_type": "markdown",
   "id": "ff4a9824-b14e-497c-a29f-9f226373a9fb",
   "metadata": {},
   "source": [
    "For the first 10 periods all lines up with a simulated dataset. However, there the share then stabilizes around 75\\%."
   ]
  }
 ],
 "metadata": {
  "kernelspec": {
   "display_name": "Python 3",
   "language": "python",
   "name": "python3"
  },
  "language_info": {
   "codemirror_mode": {
    "name": "ipython",
    "version": 3
   },
   "file_extension": ".py",
   "mimetype": "text/x-python",
   "name": "python",
   "nbconvert_exporter": "python",
   "pygments_lexer": "ipython3",
   "version": "3.8.10"
  }
 },
 "nbformat": 4,
 "nbformat_minor": 5
}
