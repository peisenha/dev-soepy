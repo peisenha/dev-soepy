{
 "cells": [
  {
   "cell_type": "code",
   "execution_count": 2,
   "metadata": {},
   "outputs": [
    {
     "name": "stdout",
     "output_type": "stream",
     "text": [
      "                            value\n",
      "category      name               \n",
      "disutil_work  const_f    2.936641\n",
      "              const_p    4.812964\n",
      "exp_deprec    delta_s1   0.164490\n",
      "              delta_s2   0.523237\n",
      "              delta_s3   0.656649\n",
      "exp_accm      g_s1       0.224270\n",
      "              g_s2       0.370940\n",
      "              g_s3       0.152583\n",
      "const_wage_eq gamma_0s1  0.753137\n",
      "              gamma_0s2  1.456585\n",
      "              gamma_0s3  1.467787\n",
      "exp_returns   gamma_1s1  0.192455\n",
      "              gamma_1s2  0.214573\n",
      "              gamma_1s3  0.116018\n",
      "shares        share_1    0.461001\n",
      "              share_2    0.390153\n",
      "sd_wage_shock sigma_1    0.895156\n",
      "              sigma_2    0.950027\n",
      "              sigma_3    1.079047\n",
      "hetrg_unobs   theta_f1  -2.684474\n",
      "              theta_f2  -0.608320\n",
      "              theta_p1  -2.495746\n",
      "              theta_p2  -1.005207\n"
     ]
    }
   ],
   "source": [
    "import soepy\n",
    "\n",
    "from soepy.test.random_init import random_init\n",
    "from soepy.python.pre_processing.model_processing import transform_old_init_dict_to_df\n",
    "\n",
    "random_init()\n",
    "\n",
    "df = transform_old_init_dict_to_df(\"test.soepy.yml\")\n",
    "\n",
    "print(df)"
   ]
  },
  {
   "cell_type": "code",
   "execution_count": 4,
   "metadata": {},
   "outputs": [],
   "source": [
    "from soepy.python.pre_processing.model_processing import read_model_params_init"
   ]
  },
  {
   "cell_type": "code",
   "execution_count": 8,
   "metadata": {},
   "outputs": [],
   "source": [
    "rslt = read_model_params_init(df)"
   ]
  },
  {
   "cell_type": "code",
   "execution_count": 11,
   "metadata": {},
   "outputs": [
    {
     "name": "stdout",
     "output_type": "stream",
     "text": [
      "model_parameters(gamma_0s=[0.753137488685605, 1.4565850672247909, 1.4677874380582172], gamma_1s=[0.19245532687474703, 0.21457259001941237, 0.11601785987136531], g_s=[0.22427038158532484, 0.37093978210738965, 0.15258307865026752], delta_s=[0.16449040867386833, 0.523237284084206, 0.6566490993998629], const_p=4.812963767768961, const_f=2.936640798963079, shocks_cov=[0.8013048527136811, 0.902552132756905, 1.1643418789617952], type_shares=[0.14884646520476275, 0.4610009794874799, 0.3901525553077574], theta_p=[-2.4957462252215854, -1.0052072734315325], theta_f=[-2.6844743926596557, -0.6083196993185269])\n"
     ]
    }
   ],
   "source": [
    "print(rslt)"
   ]
  },
  {
   "cell_type": "code",
   "execution_count": null,
   "metadata": {},
   "outputs": [],
   "source": []
  }
 ],
 "metadata": {
  "kernelspec": {
   "display_name": "Python 3",
   "language": "python",
   "name": "python3"
  },
  "language_info": {
   "codemirror_mode": {
    "name": "ipython",
    "version": 3
   },
   "file_extension": ".py",
   "mimetype": "text/x-python",
   "name": "python",
   "nbconvert_exporter": "python",
   "pygments_lexer": "ipython3",
   "version": "3.6.7"
  }
 },
 "nbformat": 4,
 "nbformat_minor": 4
}
