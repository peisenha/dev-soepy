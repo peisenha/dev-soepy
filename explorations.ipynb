{
 "cells": [
  {
   "cell_type": "code",
   "execution_count": 1,
   "metadata": {},
   "outputs": [],
   "source": [
    "import sys\n",
    "import os \n",
    "import pandas as pd\n",
    "import numpy as np\n",
    "\n",
    "import soepy\n",
    "\n",
    "from dev_library import plot_basics_choices\n",
    "from dev_library import plot_basics_wages\n",
    "from dev_library import df_alignment\n",
    "\n",
    "import pandas as pd\n",
    "pd.set_option('display.max_rows', 500)\n",
    "sys.path.insert(0, os.environ[\"PROJECT_DIR\"] + \"/estimations/peisenha_exploration\")\n",
    "os.chdir(os.environ[\"PROJECT_DIR\"] + \"/estimations/peisenha_exploration\")\n",
    "\n",
    "\n",
    "fname = os.environ[\"PROJECT_DIR\"] + \"/resources/soepcore_struct_prep.dta\"\n",
    "df_obs = pd.read_stata(fname, convert_categoricals = False)\n",
    "df_obs = df_alignment(df_obs, is_obs=True)"
   ]
  },
  {
   "cell_type": "code",
   "execution_count": 3,
   "metadata": {},
   "outputs": [],
   "source": [
    "fname = os.environ[\"PROJECT_DIR\"] + \"/estimations/peisenha_exploration\"\n",
    "params_start  = pd.read_pickle(fname + \"/start.soepy.pkl\") "
   ]
  },
  {
   "cell_type": "code",
   "execution_count": 4,
   "metadata": {},
   "outputs": [],
   "source": [
    "df_sim_base = soepy.simulate(params_start, \"resources/model_spec_init.yml\")\n"
   ]
  }
 ],
 "metadata": {
  "kernelspec": {
   "display_name": "Python 3",
   "language": "python",
   "name": "python3"
  },
  "language_info": {
   "codemirror_mode": {
    "name": "ipython",
    "version": 3
   },
   "file_extension": ".py",
   "mimetype": "text/x-python",
   "name": "python",
   "nbconvert_exporter": "python",
   "pygments_lexer": "ipython3",
   "version": "3.7.3"
  }
 },
 "nbformat": 4,
 "nbformat_minor": 4
}
