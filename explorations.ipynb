{
 "cells": [
  {
   "cell_type": "code",
   "execution_count": 3,
   "metadata": {},
   "outputs": [],
   "source": [
    "import sys\n",
    "import os \n",
    "import pandas as pd\n",
    "import numpy as np\n",
    "\n",
    "import soepy\n",
    "\n",
    "from dev_library import plot_basics_choices\n",
    "from dev_library import plot_basics_wages\n",
    "from dev_library import df_alignment\n",
    "\n",
    "import pandas as pd\n",
    "pd.set_option('display.max_rows', 500)\n",
    "sys.path.insert(0, os.environ[\"PROJECT_DIR\"] + \"/estimations/peisenha_exploration\")\n",
    "os.chdir(os.environ[\"PROJECT_DIR\"] + \"/estimations/peisenha_exploration\")\n"
   ]
  },
  {
   "cell_type": "code",
   "execution_count": 9,
   "metadata": {},
   "outputs": [],
   "source": [
    "start = pd.read_pickle(\"start.soepy.pkl\")\n",
    "df_steps = pd.read_pickle(\"steps.respy.pkl\")"
   ]
  },
  {
   "cell_type": "code",
   "execution_count": 76,
   "metadata": {},
   "outputs": [
    {
     "data": {
      "text/plain": [
       "Index(['benefits_base', 'const_wage_eq', 'delta', 'disutil_work', 'exp_accm',\n",
       "       'exp_deprec', 'exp_returns', 'hetrg_unobs', 'mu', 'sd_wage_shock',\n",
       "       'shares'],\n",
       "      dtype='object', name='category')"
      ]
     },
     "execution_count": 76,
     "metadata": {},
     "output_type": "execute_result"
    }
   ],
   "source": [
    "df_step = df_steps.tail(31).loc[0, :]\n",
    "df_step.drop([\"fval\", \"fval\"], inplace=True)\n",
    "df_step.reset_index(inplace=True)\n",
    "df_step.set_index([\"category\", \"name\"], inplace=True)\n",
    "df_step.index.levels[0]\n",
    "\n",
    "df_step.to_pickle(\"start.soepy.pkl\")"
   ]
  },
  {
   "cell_type": "code",
   "execution_count": 61,
   "metadata": {},
   "outputs": [
    {
     "data": {
      "text/plain": [
       "Index(['benefits_base', 'const_wage_eq', 'delta', 'disutil_work', 'exp_accm',\n",
       "       'exp_deprec', 'exp_returns', 'fval', 'hetrg_unobs', 'mu',\n",
       "       'sd_wage_shock', 'shares'],\n",
       "      dtype='object', name='category')"
      ]
     },
     "execution_count": 61,
     "metadata": {},
     "output_type": "execute_result"
    }
   ],
   "source": [
    "df_step.index.levels[0]"
   ]
  },
  {
   "cell_type": "code",
   "execution_count": 34,
   "metadata": {},
   "outputs": [
    {
     "data": {
      "text/plain": [
       "Index(['benefits_base', 'const_wage_eq', 'delta', 'disutil_work', 'exp_accm',\n",
       "       'exp_deprec', 'exp_returns', 'fval', 'hetrg_unobs', 'mu',\n",
       "       'sd_wage_shock', 'shares'],\n",
       "      dtype='object', name='category')"
      ]
     },
     "execution_count": 34,
     "metadata": {},
     "output_type": "execute_result"
    }
   ],
   "source": []
  },
  {
   "cell_type": "code",
   "execution_count": 77,
   "metadata": {},
   "outputs": [],
   "source": []
  },
  {
   "cell_type": "code",
   "execution_count": null,
   "metadata": {},
   "outputs": [],
   "source": []
  }
 ],
 "metadata": {
  "kernelspec": {
   "display_name": "Python 3",
   "language": "python",
   "name": "python3"
  },
  "language_info": {
   "codemirror_mode": {
    "name": "ipython",
    "version": 3
   },
   "file_extension": ".py",
   "mimetype": "text/x-python",
   "name": "python",
   "nbconvert_exporter": "python",
   "pygments_lexer": "ipython3",
   "version": "3.7.3"
  }
 },
 "nbformat": 4,
 "nbformat_minor": 4
}
