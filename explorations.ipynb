{
 "cells": [
  {
   "cell_type": "code",
   "execution_count": 15,
   "metadata": {},
   "outputs": [],
   "source": [
    "import pickle as pkl\n",
    "import pandas as pd"
   ]
  },
  {
   "cell_type": "code",
   "execution_count": 47,
   "metadata": {},
   "outputs": [
    {
     "data": {
      "text/plain": [
       "<AxesSubplot:xlabel='Agents'>"
      ]
     },
     "execution_count": 47,
     "metadata": {},
     "output_type": "execute_result"
    },
    {
     "data": {
      "image/png": "[encoded data removed]",
      "text/plain": [
       "<Figure size 432x288 with 1 Axes>"
      ]
     },
     "metadata": {
      "needs_background": "light"
     },
     "output_type": "display_data"
    }
   ],
   "source": [
    "os.chdir(\"/home/peisenha/projects/structExpectations/development/templates\")\n",
    "rslt = pd.read_pickle(\"rslt-chatter.pkl\")\n",
    "rslt[\"Fval\"].plot()"
   ]
  },
  {
   "cell_type": "code",
   "execution_count": 48,
   "metadata": {},
   "outputs": [
    {
     "data": {
      "text/html": [
       "<div>\n",
       "<style scoped>\n",
       "    .dataframe tbody tr th:only-of-type {\n",
       "        vertical-align: middle;\n",
       "    }\n",
       "\n",
       "    .dataframe tbody tr th {\n",
       "        vertical-align: top;\n",
       "    }\n",
       "\n",
       "    .dataframe thead th {\n",
       "        text-align: right;\n",
       "    }\n",
       "</style>\n",
       "<table border=\"1\" class=\"dataframe\">\n",
       "  <thead>\n",
       "    <tr style=\"text-align: right;\">\n",
       "      <th></th>\n",
       "      <th>Fval</th>\n",
       "      <th>Time</th>\n",
       "    </tr>\n",
       "    <tr>\n",
       "      <th>Agents</th>\n",
       "      <th></th>\n",
       "      <th></th>\n",
       "    </tr>\n",
       "  </thead>\n",
       "  <tbody>\n",
       "    <tr>\n",
       "      <th>1000</th>\n",
       "      <td>4260.86</td>\n",
       "      <td>22.943</td>\n",
       "    </tr>\n",
       "    <tr>\n",
       "      <th>50500</th>\n",
       "      <td>4578.62</td>\n",
       "      <td>27.497</td>\n",
       "    </tr>\n",
       "    <tr>\n",
       "      <th>100000</th>\n",
       "      <td>4528.62</td>\n",
       "      <td>31.1665</td>\n",
       "    </tr>\n",
       "  </tbody>\n",
       "</table>\n",
       "</div>"
      ],
      "text/plain": [
       "           Fval     Time\n",
       "Agents                  \n",
       "1000    4260.86   22.943\n",
       "50500   4578.62   27.497\n",
       "100000  4528.62  31.1665"
      ]
     },
     "execution_count": 48,
     "metadata": {},
     "output_type": "execute_result"
    }
   ],
   "source": [
    "rslt"
   ]
  },
  {
   "cell_type": "code",
   "execution_count": 36,
   "metadata": {},
   "outputs": [
    {
     "data": {
      "text/plain": [
       "'/home/peisenha/external-storage/ownCloud/office/projects/structExpectations/development'"
      ]
     },
     "execution_count": 36,
     "metadata": {},
     "output_type": "execute_result"
    }
   ],
   "source": [
    "import os\n",
    "os.getcwd()"
   ]
  },
  {
   "cell_type": "code",
   "execution_count": 39,
   "metadata": {},
   "outputs": [
    {
     "name": "stdout",
     "output_type": "stream",
     "text": [
      "[-2.30684060e+00 -3.71110633e+00 -3.00896421e+00 -3.45947617e+00\n",
      " -4.57951977e+00 -3.33957347e+00 -5.24645074e+00 -3.86736651e+00\n",
      " -5.07906416e+00 -3.97137051e+00 -5.66190148e+00 -4.88311460e+00\n",
      " -5.53071846e+00 -4.09045001e+00 -5.93738353e+00 -3.89606060e+00\n",
      " -6.44463877e+00 -4.72500795e+00 -6.25019286e+00 -3.50060914e+00\n",
      " -6.48860806e+00 -5.50641887e+00 -7.06075124e+00 -4.36285267e+00\n",
      " -7.76510488e+00 -5.34464484e+00 -7.17208870e+00 -5.22938055e+00\n",
      " -7.37328189e+00 -6.28467414e+00 -7.20970362e+00 -4.59615934e+00\n",
      " -7.93948813e+00 -5.50473370e+00 -7.66008361e+00 -4.97414139e+00\n",
      " -6.63919166e+00 -3.81418427e+00 -8.05139118e+00 -5.54587574e+00\n",
      " -7.75189916e+00 -5.15219820e+00 -7.91871363e+00 -6.32230021e+00\n",
      " -7.97650807e+00 -4.87347016e+00 -8.03373215e+00 -6.05863088e+00\n",
      " -9.21282955e+00 -6.77277298e+00 -9.13079793e+00 -5.71831884e+00\n",
      " -1.02206857e+01 -6.44211629e+00 -1.04149227e+01 -6.86860132e+00\n",
      " -9.99429666e+00 -5.58410536e+00 -1.00273612e+01 -6.09463608e+00\n",
      " -1.18326509e+01 -6.20075949e+00 -1.03948733e+01 -4.60080193e+00\n",
      " -1.18904334e+01 -6.71432571e+00 -1.24211000e+01 -7.69355731e+00\n",
      " -1.35715325e+01 -7.70707282e+00 -1.29647560e+01 -5.69883731e+00\n",
      " -1.28960188e+01 -8.17356003e+00 -1.33318397e+01 -9.07081416e+00\n",
      " -1.22328830e+01 -5.94118371e+00  8.92116788e-02  2.56131387e-02\n",
      " -1.14824818e-01  4.25795455e-02  2.15909091e-03 -4.47386364e-02\n",
      "  5.16608187e-02 -1.53450292e-02 -3.63157895e-02  4.91370558e-02\n",
      " -5.69898477e-02  7.85279188e-03  4.01877256e-02 -2.82057762e-02\n",
      " -1.19819495e-02  4.19292035e-02 -8.63845535e-02  4.44553500e-02\n",
      "  2.73631040e-02 -9.28360176e-02  6.54729136e-02 -1.88461538e-03\n",
      " -8.82252747e-02  9.01098901e-02 -1.38813448e-02 -4.71516150e-02\n",
      "  6.10329598e-02 -9.36585366e-03 -2.70975610e-02  3.64634146e-02\n",
      "  2.28825215e-02 -2.96618911e-02  6.77936963e-03  2.85197505e-02\n",
      " -3.35592516e-02  5.03950104e-03  1.69264924e-02 -1.51164282e-02\n",
      " -1.81006413e-03 -5.24718410e-02  2.98495031e-02  2.26223379e-02\n",
      " -4.70013507e-03  2.61733453e-02 -2.14732103e-02 -8.02951834e-02\n",
      "  7.86279275e-02  1.66725586e-03 -8.21629881e-02  9.40254669e-02\n",
      " -1.18624788e-02 -1.23160034e-01  1.21907415e-01  1.25261835e-03\n",
      " -1.46275489e-01  1.49488140e-01 -3.21265085e-03 -1.64355148e-01\n",
      "  1.55330971e-01  9.02417674e-03 -2.07435627e-01  2.01631490e-01\n",
      "  5.80413677e-03 -2.28511241e-01  2.09650291e-01  1.88609492e-02\n",
      " -2.34317073e-01  2.29182713e-01  5.13436029e-03 -2.88008316e-01\n",
      "  2.56453222e-01  3.15550936e-02 -2.56552460e-01  2.56358729e-01\n",
      "  1.93730953e-04 -2.67905188e-01  2.72846154e-01 -4.94096601e-03\n",
      " -3.42682706e-01  2.92709385e-01  4.99733206e-02 -3.65146435e-01\n",
      "  3.20289017e-01  4.48574181e-02 -4.18126454e-01  3.28868488e-01\n",
      "  8.92579666e-02 -3.76592397e-01  3.43451954e-01  3.31404435e-02\n",
      " -4.08519553e-01  3.25189944e-01  8.33296089e-02 -3.71700656e-01\n",
      "  3.14451998e-01  5.72486583e-02 -3.24140351e-01  3.08744361e-01\n",
      "  1.53959900e-02 -3.70444444e-01  3.27005168e-01  4.34392765e-02\n",
      " -3.46392670e-01  3.14314136e-01  3.20785340e-02 -3.38069199e-01\n",
      "  3.21710991e-01  1.63582090e-02 -3.30518776e-01  2.86888734e-01\n",
      "  4.36300417e-02 -2.60138554e-01  2.55427711e-01  4.71084337e-03\n",
      " -3.41313099e-01  2.54565495e-01  8.67476038e-02]\n",
      "4260.862842122197\n",
      "[-2.30684060e+00 -3.71110633e+00 -3.00896421e+00 -3.45947617e+00\n",
      " -4.57951977e+00 -3.33957347e+00 -5.24645074e+00 -3.86736651e+00\n",
      " -5.07906416e+00 -3.97137051e+00 -5.66190148e+00 -4.88311460e+00\n",
      " -5.53071846e+00 -4.09045001e+00 -5.93738353e+00 -3.89606060e+00\n",
      " -6.44463877e+00 -4.72500795e+00 -6.25019286e+00 -3.50060914e+00\n",
      " -6.48860806e+00 -5.50641887e+00 -7.06075124e+00 -4.36285267e+00\n",
      " -7.76510488e+00 -5.34464484e+00 -7.17208870e+00 -5.22938055e+00\n",
      " -7.37328189e+00 -6.28467414e+00 -7.20970362e+00 -4.59615934e+00\n",
      " -7.93948813e+00 -5.50473370e+00 -7.66008361e+00 -4.97414139e+00\n",
      " -6.63919166e+00 -3.81418427e+00 -8.05139118e+00 -5.54587574e+00\n",
      " -7.75189916e+00 -5.15219820e+00 -7.91871363e+00 -6.32230021e+00\n",
      " -7.97650807e+00 -4.87347016e+00 -8.03373215e+00 -6.05863088e+00\n",
      " -9.21282955e+00 -6.77277298e+00 -9.13079793e+00 -5.71831884e+00\n",
      " -1.02206857e+01 -6.44211629e+00 -1.04149227e+01 -6.86860132e+00\n",
      " -9.99429666e+00 -5.58410536e+00 -1.00273612e+01 -6.09463608e+00\n",
      " -1.18326509e+01 -6.20075949e+00 -1.03948733e+01 -4.60080193e+00\n",
      " -1.18904334e+01 -6.71432571e+00 -1.24211000e+01 -7.69355731e+00\n",
      " -1.35715325e+01 -7.70707282e+00 -1.29647560e+01 -5.69883731e+00\n",
      " -1.28960188e+01 -8.17356003e+00 -1.33318397e+01 -9.07081416e+00\n",
      " -1.22328830e+01 -5.94118371e+00  8.92116788e-02  2.56131387e-02\n",
      " -1.14824818e-01  4.25795455e-02  2.15909091e-03 -4.47386364e-02\n",
      "  5.16608187e-02 -1.53450292e-02 -3.63157895e-02  4.91370558e-02\n",
      " -5.69898477e-02  7.85279188e-03  4.01877256e-02 -2.82057762e-02\n",
      " -1.19819495e-02  4.19292035e-02 -8.63845535e-02  4.44553500e-02\n",
      "  2.73631040e-02 -9.28360176e-02  6.54729136e-02 -1.88461538e-03\n",
      " -8.82252747e-02  9.01098901e-02 -1.38813448e-02 -4.71516150e-02\n",
      "  6.10329598e-02 -9.36585366e-03 -2.70975610e-02  3.64634146e-02\n",
      "  2.28825215e-02 -2.96618911e-02  6.77936963e-03  2.85197505e-02\n",
      " -3.35592516e-02  5.03950104e-03  1.69264924e-02 -1.51164282e-02\n",
      " -1.81006413e-03 -5.24718410e-02  2.98495031e-02  2.26223379e-02\n",
      " -4.70013507e-03  2.61733453e-02 -2.14732103e-02 -8.02951834e-02\n",
      "  7.86279275e-02  1.66725586e-03 -8.21629881e-02  9.40254669e-02\n",
      " -1.18624788e-02 -1.23160034e-01  1.21907415e-01  1.25261835e-03\n",
      " -1.46275489e-01  1.49488140e-01 -3.21265085e-03 -1.64355148e-01\n",
      "  1.55330971e-01  9.02417674e-03 -2.07435627e-01  2.01631490e-01\n",
      "  5.80413677e-03 -2.28511241e-01  2.09650291e-01  1.88609492e-02\n",
      " -2.34317073e-01  2.29182713e-01  5.13436029e-03 -2.88008316e-01\n",
      "  2.56453222e-01  3.15550936e-02 -2.56552460e-01  2.56358729e-01\n",
      "  1.93730953e-04 -2.67905188e-01  2.72846154e-01 -4.94096601e-03\n",
      " -3.42682706e-01  2.92709385e-01  4.99733206e-02 -3.65146435e-01\n",
      "  3.20289017e-01  4.48574181e-02 -4.18126454e-01  3.28868488e-01\n",
      "  8.92579666e-02 -3.76592397e-01  3.43451954e-01  3.31404435e-02\n",
      " -4.08519553e-01  3.25189944e-01  8.33296089e-02 -3.71700656e-01\n",
      "  3.14451998e-01  5.72486583e-02 -3.24140351e-01  3.08744361e-01\n",
      "  1.53959900e-02 -3.70444444e-01  3.27005168e-01  4.34392765e-02\n",
      " -3.46392670e-01  3.14314136e-01  3.20785340e-02 -3.38069199e-01\n",
      "  3.21710991e-01  1.63582090e-02 -3.30518776e-01  2.86888734e-01\n",
      "  4.36300417e-02 -2.60138554e-01  2.55427711e-01  4.71084337e-03\n",
      " -3.41313099e-01  2.54565495e-01  8.67476038e-02]\n",
      "4260.862842122197\n"
     ]
    }
   ],
   "source": [
    "\n",
    "#!usr/bin/env python\n",
    "import pickle\n",
    "import time\n",
    "import yaml\n",
    "import sys\n",
    "import os\n",
    "\n",
    "import pandas as pd\n",
    "import numpy as np\n",
    "\n",
    "import sys\n",
    "sys.path.insert(0, \"../analysis/python\")\n",
    "from SimulationBasedEstimation import SimulationBasedEstimationCls\n",
    "\n",
    "\n",
    "\n",
    "base_dir = os.getcwd()\n",
    "os.chdir(\"/home/peisenha/projects/structExpectations/analysis/estimation/template-global-optimization\")\n",
    "\n",
    "sys.path.insert(0, \".\")\n",
    "from global_moments import get_moments\n",
    "\n",
    "grid = np.linspace(1000, 2000, num=1, dtype=int)\n",
    "rslt = pd.DataFrame(None, columns=[\"Fval\", \"Time\"], index=grid)\n",
    "rslt.index.name = \"Agents\"\n",
    "\n",
    "base_spec = yaml.load(open(\"resources/model_spec_init.yml\"), Loader=yaml.Loader)\n",
    "\n",
    "for num_agents_sim in rslt.index.get_level_values(\"Agents\"):\n",
    "    base_spec[\"SIMULATION\"][\"num_agents_sim\"] = num_agents_sim\n",
    "    yaml.dump(base_spec, open('data.yml', \"w\"), default_flow_style=False)\n",
    "\n",
    "    model_spec_fname = \"data.yml\"\n",
    "    model_para_fname = \"resources/model_params.pkl\"\n",
    "\n",
    "    weighting_matrix = pickle.load(open(\"resources/weighting_matrix_ones.pkl\", \"rb\"))\n",
    "    moments_obs = pickle.load(open(\"resources/moments_obs.pkl\", \"rb\"))\n",
    "    model_params = pd.read_pickle(model_para_fname)\n",
    "\n",
    "    # We need to set up our criterion function.\n",
    "    adapter_kwargs = dict()\n",
    "    adapter_kwargs[\"model_spec_init_file_name\"] = model_spec_fname\n",
    "    adapter_kwargs[\"weighting_matrix\"] = weighting_matrix\n",
    "    adapter_kwargs[\"moments_obs\"] = moments_obs\n",
    "    adapter_kwargs[\"get_moments\"] = get_moments\n",
    "    adapter_kwargs[\"params\"] = model_params\n",
    "\n",
    "    adapter_smm = SimulationBasedEstimationCls(**adapter_kwargs)\n",
    "    \n",
    "    start = time.time()\n",
    "    fval = adapter_smm.get_objective(model_params)\n",
    "    finish = time.time()\n",
    "\n",
    "    rslt.loc[num_agents_sim, \"Time\"] = finish-start   \n",
    "    rslt.loc[num_agents_sim, \"Fval\"] = fval\n",
    "\n",
    "    rslt.to_pickle(f\"{base_dir}/rslt-chatter.pkl\")"
   ]
  },
  {
   "cell_type": "code",
   "execution_count": 40,
   "metadata": {},
   "outputs": [
    {
     "data": {
      "text/html": [
       "<div>\n",
       "<style scoped>\n",
       "    .dataframe tbody tr th:only-of-type {\n",
       "        vertical-align: middle;\n",
       "    }\n",
       "\n",
       "    .dataframe tbody tr th {\n",
       "        vertical-align: top;\n",
       "    }\n",
       "\n",
       "    .dataframe thead th {\n",
       "        text-align: right;\n",
       "    }\n",
       "</style>\n",
       "<table border=\"1\" class=\"dataframe\">\n",
       "  <thead>\n",
       "    <tr style=\"text-align: right;\">\n",
       "      <th></th>\n",
       "      <th>Fval</th>\n",
       "      <th>Time</th>\n",
       "    </tr>\n",
       "    <tr>\n",
       "      <th>Agents</th>\n",
       "      <th></th>\n",
       "      <th></th>\n",
       "    </tr>\n",
       "  </thead>\n",
       "  <tbody>\n",
       "    <tr>\n",
       "      <th>1000</th>\n",
       "      <td>4260.86</td>\n",
       "      <td>24.547705</td>\n",
       "    </tr>\n",
       "  </tbody>\n",
       "</table>\n",
       "</div>"
      ],
      "text/plain": [
       "           Fval       Time\n",
       "Agents                    \n",
       "1000    4260.86  24.547705"
      ]
     },
     "execution_count": 40,
     "metadata": {},
     "output_type": "execute_result"
    }
   ],
   "source": [
    "rslt"
   ]
  },
  {
   "cell_type": "code",
   "execution_count": null,
   "metadata": {},
   "outputs": [],
   "source": []
  }
 ],
 "metadata": {
  "kernelspec": {
   "display_name": "Python 3",
   "language": "python",
   "name": "python3"
  },
  "language_info": {
   "codemirror_mode": {
    "name": "ipython",
    "version": 3
   },
   "file_extension": ".py",
   "mimetype": "text/x-python",
   "name": "python",
   "nbconvert_exporter": "python",
   "pygments_lexer": "ipython3",
   "version": "3.7.3"
  }
 },
 "nbformat": 4,
 "nbformat_minor": 4
}
