{
 "cells": [
  {
   "cell_type": "code",
   "execution_count": 32,
   "metadata": {},
   "outputs": [],
   "source": [
    "import sys\n",
    "import os \n",
    "import pandas as pd\n",
    "import numpy as np\n",
    "\n",
    "import soepy\n",
    "\n",
    "from dev_library import plot_basics_choices\n",
    "from dev_library import plot_basics_wages\n",
    "from dev_library import df_alignment\n",
    "\n",
    "import pandas as pd\n",
    "pd.set_option('display.max_rows', 500)\n",
    "sys.path.insert(0, os.environ[\"PROJECT_DIR\"] + \"/estimations/peisenha_exploration\")"
   ]
  },
  {
   "cell_type": "code",
   "execution_count": 33,
   "metadata": {},
   "outputs": [],
   "source": [
    "fname = os.environ[\"PROJECT_DIR\"] + \"/estimations/peisenha_exploration\"\n",
    "df_step  = pd.read_pickle(fname + \"/steps.soepy.pkl\").tail(31).loc[0]\n",
    "df_step.to_pickle(fname + \"/step.soepy.pkl\")"
   ]
  },
  {
   "cell_type": "code",
   "execution_count": 23,
   "metadata": {},
   "outputs": [],
   "source": [
    "df_start = pd.read_pickle(fname + \"/start.soepy.pkl\")"
   ]
  },
  {
   "cell_type": "code",
   "execution_count": 24,
   "metadata": {},
   "outputs": [
    {
     "data": {
      "text/plain": [
       "category       name       \n",
       "const_wage_eq  gamma_0s1        2.006523\n",
       "               gamma_0s2        2.052223\n",
       "               gamma_0s3        2.117786\n",
       "exp_returns    gamma_1s1        0.135642\n",
       "               gamma_1s2        0.210134\n",
       "               gamma_1s3        0.312074\n",
       "exp_accm       g_s1             0.136679\n",
       "               g_s2             0.247751\n",
       "               g_s3             0.251999\n",
       "exp_deprec     delta_s1         0.020000\n",
       "               delta_s2         0.020000\n",
       "               delta_s3         0.020000\n",
       "hetrg_unobs    theta_p1        -0.633038\n",
       "               theta_f1        -0.921103\n",
       "shares         share_1          0.522798\n",
       "sd_wage_shock  sigma_1          0.349414\n",
       "               sigma_2          0.404907\n",
       "disutil_work   no_kids_f        0.429523\n",
       "               no_kids_p       -0.418255\n",
       "               yes_kids_f       1.324608\n",
       "               yes_kids_p      -0.396018\n",
       "               child_02_f       0.105425\n",
       "               child_02_p      -0.043021\n",
       "               child_35_f       0.031437\n",
       "               child_35_p      -0.162758\n",
       "               child_610_f      0.027559\n",
       "               child_610_p     -0.357365\n",
       "benefits_base                 200.000000\n",
       "delta                           0.980000\n",
       "mu                             -0.560000\n",
       "Name: value, dtype: float64"
      ]
     },
     "execution_count": 24,
     "metadata": {},
     "output_type": "execute_result"
    }
   ],
   "source": [
    "df_start[\"value\"]"
   ]
  },
  {
   "cell_type": "code",
   "execution_count": 25,
   "metadata": {},
   "outputs": [
    {
     "data": {
      "text/plain": [
       "Step  category       name       \n",
       "0     const_wage_eq  gamma_0s1          1.915516\n",
       "                     gamma_0s2          2.073674\n",
       "                     gamma_0s3          2.188551\n",
       "      exp_returns    gamma_1s1          0.153794\n",
       "                     gamma_1s2          0.186898\n",
       "                     gamma_1s3          0.287774\n",
       "      exp_accm       g_s1               0.118707\n",
       "                     g_s2               0.260311\n",
       "                     g_s3               0.249286\n",
       "      exp_deprec     delta_s1           0.020000\n",
       "                     delta_s2           0.020000\n",
       "                     delta_s3           0.020000\n",
       "      hetrg_unobs    theta_p1          -0.630255\n",
       "                     theta_f1          -0.946860\n",
       "      shares         share_1            0.682981\n",
       "      sd_wage_shock  sigma_1            0.356500\n",
       "                     sigma_2            0.447437\n",
       "      disutil_work   no_kids_f          0.530702\n",
       "                     no_kids_p         -0.448117\n",
       "                     yes_kids_f         1.435933\n",
       "                     yes_kids_p        -0.490616\n",
       "                     child_02_f         0.089280\n",
       "                     child_02_p        -0.271643\n",
       "                     child_35_f         0.001833\n",
       "                     child_35_p        -0.336626\n",
       "                     child_610_f        0.028473\n",
       "                     child_610_p       -0.397101\n",
       "      benefits_base                   200.000000\n",
       "      delta                             0.980000\n",
       "      mu                               -0.560000\n",
       "      fval           fval           16432.425896\n",
       "Name: value, dtype: float64"
      ]
     },
     "execution_count": 25,
     "metadata": {},
     "output_type": "execute_result"
    }
   ],
   "source": [
    "df_step[\"value\"]"
   ]
  },
  {
   "cell_type": "code",
   "execution_count": null,
   "metadata": {},
   "outputs": [],
   "source": []
  }
 ],
 "metadata": {
  "kernelspec": {
   "display_name": "Python 3",
   "language": "python",
   "name": "python3"
  },
  "language_info": {
   "codemirror_mode": {
    "name": "ipython",
    "version": 3
   },
   "file_extension": ".py",
   "mimetype": "text/x-python",
   "name": "python",
   "nbconvert_exporter": "python",
   "pygments_lexer": "ipython3",
   "version": "3.7.3"
  }
 },
 "nbformat": 4,
 "nbformat_minor": 4
}
