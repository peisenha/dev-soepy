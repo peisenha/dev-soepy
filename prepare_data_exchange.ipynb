{
 "cells": [
  {
   "cell_type": "code",
   "execution_count": 1,
   "metadata": {},
   "outputs": [],
   "source": [
    "%load_ext autoreload\n",
    "%autoreload 2\n",
    "\n",
    "import os\n",
    "\n",
    "import pandas as pd\n",
    "import soepy\n",
    "\n",
    "from dev_library import df_alignment\n",
    "\n",
    "def write_disk(df, fname):\n",
    "    fname_full = os.environ[\"PROJECT_DIR\"] + \"/../data-exchange-sciebo/\" + fname\n",
    "    df.to_pickle(fname_full + \".pkl\")\n",
    "    \n",
    "    df = df.astype(\"str\")\n",
    "    df.to_stata(fname_full + \".dta\")"
   ]
  },
  {
   "cell_type": "markdown",
   "metadata": {},
   "source": [
    "# Estimation directory"
   ]
  },
  {
   "cell_type": "code",
   "execution_count": 2,
   "metadata": {},
   "outputs": [],
   "source": [
    "fname = os.environ[\"PROJECT_DIR\"] + \"/estimations/basecamp\"\n",
    "os.chdir(fname)"
   ]
  },
  {
   "cell_type": "markdown",
   "metadata": {},
   "source": [
    "# Point estimates"
   ]
  },
  {
   "cell_type": "code",
   "execution_count": 3,
   "metadata": {},
   "outputs": [],
   "source": [
    "params = pd.read_pickle(\"start.soepy.pkl\") \n",
    "write_disk(params, \"params\")"
   ]
  },
  {
   "cell_type": "markdown",
   "metadata": {},
   "source": [
    "# Simulated data"
   ]
  },
  {
   "cell_type": "code",
   "execution_count": 4,
   "metadata": {},
   "outputs": [],
   "source": [
    "# Baseline scenario\n",
    "df_sim_base = soepy.simulate(params, \"resources/model_spec_init.yml\")\n",
    "write_disk(df_alignment(df_sim_base), \"df-sim-base\")\n",
    "\n",
    "# Rational expectations scenario\n",
    "df_sim_rati = soepy.simulate(params, \"resources/model_spec_init.yml\", is_expected=False)\n",
    "write_disk(df_alignment(df_sim_rati), \"df-sim-rati\")"
   ]
  },
  {
   "cell_type": "markdown",
   "metadata": {},
   "source": [
    "# Observed data"
   ]
  },
  {
   "cell_type": "code",
   "execution_count": null,
   "metadata": {},
   "outputs": [],
   "source": [
    "fname = os.environ[\"PROJECT_DIR\"] + \"/../development/resources/soepcore_struct_prep.dta\"\n",
    "df_obs = pd.read_stata(fname, convert_categoricals = False)\n",
    "df_obs = df_alignment(df_obs, is_obs=True)\n",
    "write_disk(df_obs, \"df-obs\")"
   ]
  }
 ],
 "metadata": {
  "kernelspec": {
   "display_name": "Python 3",
   "language": "python",
   "name": "python3"
  },
  "language_info": {
   "codemirror_mode": {
    "name": "ipython",
    "version": 3
   },
   "file_extension": ".py",
   "mimetype": "text/x-python",
   "name": "python",
   "nbconvert_exporter": "python",
   "pygments_lexer": "ipython3",
   "version": "3.7.3"
  }
 },
 "nbformat": 4,
 "nbformat_minor": 4
}
