{
 "cells": [
  {
   "cell_type": "code",
   "execution_count": 2,
   "id": "4e7b034c-773c-4b42-9f2e-2d841b4bb7cc",
   "metadata": {},
   "outputs": [],
   "source": [
    "import pandas as pd\n",
    "import os\n",
    "\n",
    "import matplotlib.pyplot as plt\n",
    "from dev_library import df_alignment\n"
   ]
  },
  {
   "cell_type": "markdown",
   "id": "36ebac57-c5d0-4c56-b554-23a3b6151660",
   "metadata": {},
   "source": [
    "### Observations with children\n",
    "\n",
    "In the later periods, there are no individuals with children. We first read in the original STATA file."
   ]
  },
  {
   "cell_type": "code",
   "execution_count": 8,
   "id": "78d61acc-d10a-4741-8ddd-27b6178a10df",
   "metadata": {},
   "outputs": [
    {
     "data": {
      "text/html": [
       "<div>\n",
       "<style scoped>\n",
       "    .dataframe tbody tr th:only-of-type {\n",
       "        vertical-align: middle;\n",
       "    }\n",
       "\n",
       "    .dataframe tbody tr th {\n",
       "        vertical-align: top;\n",
       "    }\n",
       "\n",
       "    .dataframe thead th {\n",
       "        text-align: right;\n",
       "    }\n",
       "</style>\n",
       "<table border=\"1\" class=\"dataframe\">\n",
       "  <thead>\n",
       "    <tr style=\"text-align: right;\">\n",
       "      <th></th>\n",
       "      <th></th>\n",
       "      <th>Education_Level</th>\n",
       "      <th>Experience_Part_Time</th>\n",
       "      <th>Experience_Full_Time</th>\n",
       "      <th>Age_Youngest_Child</th>\n",
       "      <th>Number_of_Children</th>\n",
       "      <th>Partner_Indicator</th>\n",
       "      <th>Choice</th>\n",
       "      <th>Wage_Observed</th>\n",
       "    </tr>\n",
       "    <tr>\n",
       "      <th>Identifier</th>\n",
       "      <th>Period</th>\n",
       "      <th></th>\n",
       "      <th></th>\n",
       "      <th></th>\n",
       "      <th></th>\n",
       "      <th></th>\n",
       "      <th></th>\n",
       "      <th></th>\n",
       "      <th></th>\n",
       "    </tr>\n",
       "  </thead>\n",
       "  <tbody>\n",
       "    <tr>\n",
       "      <th rowspan=\"5\" valign=\"top\">901</th>\n",
       "      <th>32</th>\n",
       "      <td>Low</td>\n",
       "      <td>2</td>\n",
       "      <td>33</td>\n",
       "      <td>-1</td>\n",
       "      <td>0</td>\n",
       "      <td>0</td>\n",
       "      <td>Full</td>\n",
       "      <td>12.744263</td>\n",
       "    </tr>\n",
       "    <tr>\n",
       "      <th>35</th>\n",
       "      <td>Low</td>\n",
       "      <td>2</td>\n",
       "      <td>36</td>\n",
       "      <td>-1</td>\n",
       "      <td>0</td>\n",
       "      <td>0</td>\n",
       "      <td>Full</td>\n",
       "      <td>12.813683</td>\n",
       "    </tr>\n",
       "    <tr>\n",
       "      <th>36</th>\n",
       "      <td>Low</td>\n",
       "      <td>2</td>\n",
       "      <td>37</td>\n",
       "      <td>-1</td>\n",
       "      <td>0</td>\n",
       "      <td>0</td>\n",
       "      <td>Full</td>\n",
       "      <td>12.590151</td>\n",
       "    </tr>\n",
       "    <tr>\n",
       "      <th>37</th>\n",
       "      <td>Low</td>\n",
       "      <td>2</td>\n",
       "      <td>38</td>\n",
       "      <td>-1</td>\n",
       "      <td>0</td>\n",
       "      <td>0</td>\n",
       "      <td>Full</td>\n",
       "      <td>12.708170</td>\n",
       "    </tr>\n",
       "    <tr>\n",
       "      <th>38</th>\n",
       "      <td>Low</td>\n",
       "      <td>2</td>\n",
       "      <td>39</td>\n",
       "      <td>-1</td>\n",
       "      <td>0</td>\n",
       "      <td>0</td>\n",
       "      <td>Full</td>\n",
       "      <td>10.990616</td>\n",
       "    </tr>\n",
       "  </tbody>\n",
       "</table>\n",
       "</div>"
      ],
      "text/plain": [
       "                  Education_Level  Experience_Part_Time  Experience_Full_Time  \\\n",
       "Identifier Period                                                               \n",
       "901        32                 Low                     2                    33   \n",
       "           35                 Low                     2                    36   \n",
       "           36                 Low                     2                    37   \n",
       "           37                 Low                     2                    38   \n",
       "           38                 Low                     2                    39   \n",
       "\n",
       "                   Age_Youngest_Child  Number_of_Children  Partner_Indicator  \\\n",
       "Identifier Period                                                              \n",
       "901        32                      -1                   0                  0   \n",
       "           35                      -1                   0                  0   \n",
       "           36                      -1                   0                  0   \n",
       "           37                      -1                   0                  0   \n",
       "           38                      -1                   0                  0   \n",
       "\n",
       "                  Choice  Wage_Observed  \n",
       "Identifier Period                        \n",
       "901        32       Full      12.744263  \n",
       "           35       Full      12.813683  \n",
       "           36       Full      12.590151  \n",
       "           37       Full      12.708170  \n",
       "           38       Full      10.990616  "
      ]
     },
     "execution_count": 8,
     "metadata": {},
     "output_type": "execute_result"
    }
   ],
   "source": [
    "fname_data = \"/home/peisenha/structExpectations/data-exchange-sciebo/soepcore_struct_prep.dta\"\n",
    "df_obs = df_alignment(pd.read_stata(fname_data, convert_categoricals=False))\n",
    "df_obs.head()"
   ]
  },
  {
   "cell_type": "markdown",
   "id": "c09ae751-73a9-46cc-9e67-4f57f37837f9",
   "metadata": {},
   "source": [
    "Now I create an indicator variable for observation with children"
   ]
  },
  {
   "cell_type": "code",
   "execution_count": 18,
   "id": "73719479-7b72-4aa7-b1a9-c0ebddaebf1e",
   "metadata": {},
   "outputs": [],
   "source": [
    "df_obs[\"Child_present\"] = (df_obs[\"Number_of_Children\"] > 0)"
   ]
  },
  {
   "cell_type": "markdown",
   "id": "b123f73b-2ad5-404c-9d5f-763f20629fd3",
   "metadata": {},
   "source": [
    "We can then plot the share of individuals with children by period."
   ]
  },
  {
   "cell_type": "code",
   "execution_count": 20,
   "id": "87044f7e-6b3e-4485-8c02-7333da8ef4fa",
   "metadata": {},
   "outputs": [
    {
     "data": {
      "image/png": "[encoded data removed]",
      "text/plain": [
       "<Figure size 432x288 with 1 Axes>"
      ]
     },
     "metadata": {
      "needs_background": "light"
     },
     "output_type": "display_data"
    }
   ],
   "source": [
    "df_obs[\"Child_present\"].groupby(\"Period\").value_counts(normalize=True).loc[slice(None), True].plot(ylabel=\"Share with children\", ylim=[0, 1]);"
   ]
  },
  {
   "cell_type": "code",
   "execution_count": 66,
   "id": "25c6060c-dd72-4059-9b83-ab64d9b9145b",
   "metadata": {},
   "outputs": [],
   "source": [
    "num_periods = df_sim.index.get_level_values(\"Period\").max()\n",
    "\n",
    "LABELS_EDUCATION = [\"High\", \"Medium\", \"Low\"]\n",
    "LABELS_CHOICE = [\"Home\", \"Part\", \"Full\"]\n",
    "LABELS_CHILD = [False, True]\n",
    "    \n",
    "def get_info(df_int):\n",
    "\n",
    "\n",
    "    entries = [list(range(num_periods)), LABELS_EDUCATION, LABELS_CHILD, LABELS_CHOICE]\n",
    "    conditioning = [\"Period\", \"Education_Level\", \"Child_present\", \"Choice\"]\n",
    "    default_entry = 0\n",
    "\n",
    "    index = pd.MultiIndex.from_product(entries, names=conditioning)\n",
    "    grid = pd.DataFrame(data=default_entry, columns=[\"Value\"], index=index)\n",
    "\n",
    "    info = df_int.groupby(conditioning[:3]).Choice.value_counts(normalize=True)\n",
    "    grid.update(info.rename(\"Value\"))\n",
    "    \n",
    "    return grid\n",
    "\n",
    "info_sim = get_info(df_sim)\n",
    "info_obs = get_info(df_obs)"
   ]
  },
  {
   "cell_type": "code",
   "execution_count": 93,
   "id": "d42ddf27-2c8c-4d12-b288-eaf56759ffa5",
   "metadata": {},
   "outputs": [
    {
     "data": {
      "text/plain": [
       "Period  Child_present\n",
       "0       False             8756\n",
       "        True              1244\n",
       "1       False             8570\n",
       "        True              1430\n",
       "2       False             8233\n",
       "                         ...  \n",
       "34      True                 3\n",
       "35      False            10000\n",
       "36      False            10000\n",
       "37      False            10000\n",
       "38      False            10000\n",
       "Name: Child_present, Length: 74, dtype: int64"
      ]
     },
     "execution_count": 93,
     "metadata": {},
     "output_type": "execute_result"
    }
   ],
   "source": [
    "entries = [list(range(num_periods)), LABELS_EDUCATION, LABELS_CHILD, LABELS_CHOICE]\n",
    "conditioning = [\"Period\", \"Education_Level\", \"Child_present\", \"Choice\"]\n",
    "default_entry = 0\n",
    "\n",
    "index = pd.MultiIndex.from_product(entries, names=conditioning)\n",
    "grid = pd.DataFrame(data=default_entry, columns=[\"Value\"], index=index)\n",
    "\n",
    "info = df_obs.groupby(conditioning[:3]).Choice.value_counts()\n",
    "grid.update(info.rename(\"Value\"))\n",
    "\n",
    "df_obs.groupby(\"Period\")[\"Child_present\"].value_counts()"
   ]
  },
  {
   "cell_type": "code",
   "execution_count": 112,
   "id": "b9f29d98-dea6-4142-8386-4904bdddc225",
   "metadata": {},
   "outputs": [
    {
     "data": {
      "image/png": "[encoded data removed]",
      "text/plain": [
       "<Figure size 1152x576 with 3 Axes>"
      ]
     },
     "metadata": {
      "needs_background": "light"
     },
     "output_type": "display_data"
    }
   ],
   "source": [
    "x_values = range(num_periods)\n",
    "\n",
    "for edu_level in [\"Low\"]:\n",
    "    \n",
    "    fig, (ax1, ax2, ax3) = plt.subplots(nrows=1, ncols=3, figsize=(16, 8))\n",
    "\n",
    "    for ax, choice in [(ax1, \"Full\"), (ax2, \"Home\"), (ax3, \"Part\")]:        \n",
    "        ax.set_prop_cycle(None)\n",
    "\n",
    "        for child in [True, False]:\n",
    "            y_sim = info_sim.loc[slice(None), edu_level, child, choice]\n",
    "            ax.plot(x_values, y_sim, label=f\"{child}, simulated\")\n",
    "\n",
    "            #y_obs = info_obs.loc[slice(None), edu_level, child, choice]\n",
    "            #ax.plot(x_values, y_obs, label=f\"{child}, observed\", linestyle=\"--\")\n",
    "\n",
    "        \n",
    "        ax.set_title(f\"{edu_level}, {choice}\")\n",
    "        ax.set_ylim([0, 1])    \n",
    "        ax.legend()"
   ]
  },
  {
   "cell_type": "code",
   "execution_count": null,
   "id": "29c0b64e-04b7-45a8-8a5d-9726e9fbfb38",
   "metadata": {},
   "outputs": [],
   "source": []
  },
  {
   "cell_type": "code",
   "execution_count": null,
   "id": "e0dfa130-cea1-4f7e-ba92-741718ab99e6",
   "metadata": {},
   "outputs": [],
   "source": []
  }
 ],
 "metadata": {
  "kernelspec": {
   "display_name": "Python 3",
   "language": "python",
   "name": "python3"
  },
  "language_info": {
   "codemirror_mode": {
    "name": "ipython",
    "version": 3
   },
   "file_extension": ".py",
   "mimetype": "text/x-python",
   "name": "python",
   "nbconvert_exporter": "python",
   "pygments_lexer": "ipython3",
   "version": "3.8.10"
  }
 },
 "nbformat": 4,
 "nbformat_minor": 5
}
